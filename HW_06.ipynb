{
  "cells": [
    {
      "cell_type": "markdown",
      "metadata": {
        "id": "view-in-github",
        "colab_type": "text"
      },
      "source": [
        "<a href=\"https://colab.research.google.com/github/KatjaGerasimova/Machine_Learning/blob/main/HW_06.ipynb\" target=\"_parent\"><img src=\"https://colab.research.google.com/assets/colab-badge.svg\" alt=\"Open In Colab\"/></a>"
      ]
    },
    {
      "cell_type": "code",
      "execution_count": 1,
      "metadata": {
        "scrolled": true,
        "id": "Dh11fx2xJ7YE"
      },
      "outputs": [],
      "source": [
        "# !pip install stop-words pymorphy2"
      ]
    },
    {
      "cell_type": "code",
      "source": [
        "!pip install nltk"
      ],
      "metadata": {
        "colab": {
          "base_uri": "https://localhost:8080/"
        },
        "id": "sUF_EJUHMVOl",
        "outputId": "5d15a50a-3a4c-4fec-ee14-1ada6b0ed5c3"
      },
      "execution_count": 3,
      "outputs": [
        {
          "output_type": "stream",
          "name": "stdout",
          "text": [
            "Requirement already satisfied: nltk in /usr/local/lib/python3.10/dist-packages (3.8.1)\n",
            "Requirement already satisfied: click in /usr/local/lib/python3.10/dist-packages (from nltk) (8.1.7)\n",
            "Requirement already satisfied: joblib in /usr/local/lib/python3.10/dist-packages (from nltk) (1.3.2)\n",
            "Requirement already satisfied: regex>=2021.8.3 in /usr/local/lib/python3.10/dist-packages (from nltk) (2023.6.3)\n",
            "Requirement already satisfied: tqdm in /usr/local/lib/python3.10/dist-packages (from nltk) (4.66.1)\n"
          ]
        }
      ]
    },
    {
      "cell_type": "code",
      "source": [
        "!pip install stop_words"
      ],
      "metadata": {
        "colab": {
          "base_uri": "https://localhost:8080/"
        },
        "id": "pQCMxZK9Mz3U",
        "outputId": "14bf4ed7-1f93-4753-d497-d763f35d29b6"
      },
      "execution_count": 7,
      "outputs": [
        {
          "output_type": "stream",
          "name": "stdout",
          "text": [
            "Collecting stop_words\n",
            "  Downloading stop-words-2018.7.23.tar.gz (31 kB)\n",
            "  Preparing metadata (setup.py) ... \u001b[?25l\u001b[?25hdone\n",
            "Building wheels for collected packages: stop_words\n",
            "  Building wheel for stop_words (setup.py) ... \u001b[?25l\u001b[?25hdone\n",
            "  Created wheel for stop_words: filename=stop_words-2018.7.23-py3-none-any.whl size=32896 sha256=ce7bf268fb2f13b90decd80f98ca4f2c4edef85efad590c2f4839ec265dc4706\n",
            "  Stored in directory: /root/.cache/pip/wheels/d0/1a/23/f12552a50cb09bcc1694a5ebb6c2cd5f2a0311de2b8c3d9a89\n",
            "Successfully built stop_words\n",
            "Installing collected packages: stop_words\n",
            "Successfully installed stop_words-2018.7.23\n"
          ]
        }
      ]
    },
    {
      "cell_type": "code",
      "execution_count": 9,
      "metadata": {
        "colab": {
          "base_uri": "https://localhost:8080/"
        },
        "id": "uumXVA3WJ7YP",
        "outputId": "bfe1a34b-f42c-432c-c9dd-bff009d031e9"
      },
      "outputs": [
        {
          "output_type": "stream",
          "name": "stderr",
          "text": [
            "[nltk_data] Downloading package wordnet to /root/nltk_data...\n",
            "[nltk_data]   Package wordnet is already up-to-date!\n",
            "[nltk_data] Downloading package punkt to /root/nltk_data...\n",
            "[nltk_data]   Package punkt is already up-to-date!\n"
          ]
        }
      ],
      "source": [
        "import pandas as pd\n",
        "import numpy as np\n",
        "import torch\n",
        "import torch.nn as nn\n",
        "import torch.nn.functional as F\n",
        "\n",
        "from torch.utils.data import DataLoader, Dataset\n",
        "from sklearn.model_selection import train_test_split\n",
        "\n",
        "import nltk\n",
        "from nltk.tokenize import word_tokenize\n",
        "from nltk.stem import WordNetLemmatizer\n",
        "nltk.download('wordnet')\n",
        "nltk.download(\"punkt\")\n",
        "\n",
        "from string import punctuation\n",
        "from stop_words import get_stop_words\n",
        "# from pymorphy2 import MorphAnalyzer\n",
        "\n",
        "import re"
      ]
    },
    {
      "cell_type": "code",
      "execution_count": 112,
      "metadata": {
        "id": "zhIlFw_WJ7Ya"
      },
      "outputs": [],
      "source": [
        "max_words = 1000\n",
        "max_len = 10\n",
        "num_classes = 1\n",
        "\n",
        "epochs = 15\n",
        "batch_size = 512\n",
        "print_batch_n = 100"
      ]
    },
    {
      "cell_type": "code",
      "execution_count": 113,
      "metadata": {
        "id": "7R58Oul4J7Yd"
      },
      "outputs": [],
      "source": [
        "train_df = pd.read_csv('train.csv')\n",
        "# test_df = pd.read_csv('test.csv')"
      ]
    },
    {
      "cell_type": "code",
      "execution_count": 114,
      "metadata": {
        "scrolled": false,
        "colab": {
          "base_uri": "https://localhost:8080/",
          "height": 206
        },
        "id": "2PVxEa32J7Yh",
        "outputId": "e5acb5d2-e6c1-4c3d-e1b4-d9c9a80170c0"
      },
      "outputs": [
        {
          "output_type": "execute_result",
          "data": {
            "text/plain": [
              "   id  label                                              tweet\n",
              "0   1      0   @user when a father is dysfunctional and is s...\n",
              "1   2      0  @user @user thanks for #lyft credit i can't us...\n",
              "2   3      0                                bihday your majesty\n",
              "3   4      0  #model   i love u take with u all the time in ...\n",
              "4   5      0             factsguide: society now    #motivation"
            ],
            "text/html": [
              "\n",
              "  <div id=\"df-5a583b23-502b-499b-8da2-26536b3bfb58\" class=\"colab-df-container\">\n",
              "    <div>\n",
              "<style scoped>\n",
              "    .dataframe tbody tr th:only-of-type {\n",
              "        vertical-align: middle;\n",
              "    }\n",
              "\n",
              "    .dataframe tbody tr th {\n",
              "        vertical-align: top;\n",
              "    }\n",
              "\n",
              "    .dataframe thead th {\n",
              "        text-align: right;\n",
              "    }\n",
              "</style>\n",
              "<table border=\"1\" class=\"dataframe\">\n",
              "  <thead>\n",
              "    <tr style=\"text-align: right;\">\n",
              "      <th></th>\n",
              "      <th>id</th>\n",
              "      <th>label</th>\n",
              "      <th>tweet</th>\n",
              "    </tr>\n",
              "  </thead>\n",
              "  <tbody>\n",
              "    <tr>\n",
              "      <th>0</th>\n",
              "      <td>1</td>\n",
              "      <td>0</td>\n",
              "      <td>@user when a father is dysfunctional and is s...</td>\n",
              "    </tr>\n",
              "    <tr>\n",
              "      <th>1</th>\n",
              "      <td>2</td>\n",
              "      <td>0</td>\n",
              "      <td>@user @user thanks for #lyft credit i can't us...</td>\n",
              "    </tr>\n",
              "    <tr>\n",
              "      <th>2</th>\n",
              "      <td>3</td>\n",
              "      <td>0</td>\n",
              "      <td>bihday your majesty</td>\n",
              "    </tr>\n",
              "    <tr>\n",
              "      <th>3</th>\n",
              "      <td>4</td>\n",
              "      <td>0</td>\n",
              "      <td>#model   i love u take with u all the time in ...</td>\n",
              "    </tr>\n",
              "    <tr>\n",
              "      <th>4</th>\n",
              "      <td>5</td>\n",
              "      <td>0</td>\n",
              "      <td>factsguide: society now    #motivation</td>\n",
              "    </tr>\n",
              "  </tbody>\n",
              "</table>\n",
              "</div>\n",
              "    <div class=\"colab-df-buttons\">\n",
              "\n",
              "  <div class=\"colab-df-container\">\n",
              "    <button class=\"colab-df-convert\" onclick=\"convertToInteractive('df-5a583b23-502b-499b-8da2-26536b3bfb58')\"\n",
              "            title=\"Convert this dataframe to an interactive table.\"\n",
              "            style=\"display:none;\">\n",
              "\n",
              "  <svg xmlns=\"http://www.w3.org/2000/svg\" height=\"24px\" viewBox=\"0 -960 960 960\">\n",
              "    <path d=\"M120-120v-720h720v720H120Zm60-500h600v-160H180v160Zm220 220h160v-160H400v160Zm0 220h160v-160H400v160ZM180-400h160v-160H180v160Zm440 0h160v-160H620v160ZM180-180h160v-160H180v160Zm440 0h160v-160H620v160Z\"/>\n",
              "  </svg>\n",
              "    </button>\n",
              "\n",
              "  <style>\n",
              "    .colab-df-container {\n",
              "      display:flex;\n",
              "      gap: 12px;\n",
              "    }\n",
              "\n",
              "    .colab-df-convert {\n",
              "      background-color: #E8F0FE;\n",
              "      border: none;\n",
              "      border-radius: 50%;\n",
              "      cursor: pointer;\n",
              "      display: none;\n",
              "      fill: #1967D2;\n",
              "      height: 32px;\n",
              "      padding: 0 0 0 0;\n",
              "      width: 32px;\n",
              "    }\n",
              "\n",
              "    .colab-df-convert:hover {\n",
              "      background-color: #E2EBFA;\n",
              "      box-shadow: 0px 1px 2px rgba(60, 64, 67, 0.3), 0px 1px 3px 1px rgba(60, 64, 67, 0.15);\n",
              "      fill: #174EA6;\n",
              "    }\n",
              "\n",
              "    .colab-df-buttons div {\n",
              "      margin-bottom: 4px;\n",
              "    }\n",
              "\n",
              "    [theme=dark] .colab-df-convert {\n",
              "      background-color: #3B4455;\n",
              "      fill: #D2E3FC;\n",
              "    }\n",
              "\n",
              "    [theme=dark] .colab-df-convert:hover {\n",
              "      background-color: #434B5C;\n",
              "      box-shadow: 0px 1px 3px 1px rgba(0, 0, 0, 0.15);\n",
              "      filter: drop-shadow(0px 1px 2px rgba(0, 0, 0, 0.3));\n",
              "      fill: #FFFFFF;\n",
              "    }\n",
              "  </style>\n",
              "\n",
              "    <script>\n",
              "      const buttonEl =\n",
              "        document.querySelector('#df-5a583b23-502b-499b-8da2-26536b3bfb58 button.colab-df-convert');\n",
              "      buttonEl.style.display =\n",
              "        google.colab.kernel.accessAllowed ? 'block' : 'none';\n",
              "\n",
              "      async function convertToInteractive(key) {\n",
              "        const element = document.querySelector('#df-5a583b23-502b-499b-8da2-26536b3bfb58');\n",
              "        const dataTable =\n",
              "          await google.colab.kernel.invokeFunction('convertToInteractive',\n",
              "                                                    [key], {});\n",
              "        if (!dataTable) return;\n",
              "\n",
              "        const docLinkHtml = 'Like what you see? Visit the ' +\n",
              "          '<a target=\"_blank\" href=https://colab.research.google.com/notebooks/data_table.ipynb>data table notebook</a>'\n",
              "          + ' to learn more about interactive tables.';\n",
              "        element.innerHTML = '';\n",
              "        dataTable['output_type'] = 'display_data';\n",
              "        await google.colab.output.renderOutput(dataTable, element);\n",
              "        const docLink = document.createElement('div');\n",
              "        docLink.innerHTML = docLinkHtml;\n",
              "        element.appendChild(docLink);\n",
              "      }\n",
              "    </script>\n",
              "  </div>\n",
              "\n",
              "\n",
              "<div id=\"df-1719f8d0-2848-442e-81c9-aa46ea1c68a3\">\n",
              "  <button class=\"colab-df-quickchart\" onclick=\"quickchart('df-1719f8d0-2848-442e-81c9-aa46ea1c68a3')\"\n",
              "            title=\"Suggest charts.\"\n",
              "            style=\"display:none;\">\n",
              "\n",
              "<svg xmlns=\"http://www.w3.org/2000/svg\" height=\"24px\"viewBox=\"0 0 24 24\"\n",
              "     width=\"24px\">\n",
              "    <g>\n",
              "        <path d=\"M19 3H5c-1.1 0-2 .9-2 2v14c0 1.1.9 2 2 2h14c1.1 0 2-.9 2-2V5c0-1.1-.9-2-2-2zM9 17H7v-7h2v7zm4 0h-2V7h2v10zm4 0h-2v-4h2v4z\"/>\n",
              "    </g>\n",
              "</svg>\n",
              "  </button>\n",
              "\n",
              "<style>\n",
              "  .colab-df-quickchart {\n",
              "      --bg-color: #E8F0FE;\n",
              "      --fill-color: #1967D2;\n",
              "      --hover-bg-color: #E2EBFA;\n",
              "      --hover-fill-color: #174EA6;\n",
              "      --disabled-fill-color: #AAA;\n",
              "      --disabled-bg-color: #DDD;\n",
              "  }\n",
              "\n",
              "  [theme=dark] .colab-df-quickchart {\n",
              "      --bg-color: #3B4455;\n",
              "      --fill-color: #D2E3FC;\n",
              "      --hover-bg-color: #434B5C;\n",
              "      --hover-fill-color: #FFFFFF;\n",
              "      --disabled-bg-color: #3B4455;\n",
              "      --disabled-fill-color: #666;\n",
              "  }\n",
              "\n",
              "  .colab-df-quickchart {\n",
              "    background-color: var(--bg-color);\n",
              "    border: none;\n",
              "    border-radius: 50%;\n",
              "    cursor: pointer;\n",
              "    display: none;\n",
              "    fill: var(--fill-color);\n",
              "    height: 32px;\n",
              "    padding: 0;\n",
              "    width: 32px;\n",
              "  }\n",
              "\n",
              "  .colab-df-quickchart:hover {\n",
              "    background-color: var(--hover-bg-color);\n",
              "    box-shadow: 0 1px 2px rgba(60, 64, 67, 0.3), 0 1px 3px 1px rgba(60, 64, 67, 0.15);\n",
              "    fill: var(--button-hover-fill-color);\n",
              "  }\n",
              "\n",
              "  .colab-df-quickchart-complete:disabled,\n",
              "  .colab-df-quickchart-complete:disabled:hover {\n",
              "    background-color: var(--disabled-bg-color);\n",
              "    fill: var(--disabled-fill-color);\n",
              "    box-shadow: none;\n",
              "  }\n",
              "\n",
              "  .colab-df-spinner {\n",
              "    border: 2px solid var(--fill-color);\n",
              "    border-color: transparent;\n",
              "    border-bottom-color: var(--fill-color);\n",
              "    animation:\n",
              "      spin 1s steps(1) infinite;\n",
              "  }\n",
              "\n",
              "  @keyframes spin {\n",
              "    0% {\n",
              "      border-color: transparent;\n",
              "      border-bottom-color: var(--fill-color);\n",
              "      border-left-color: var(--fill-color);\n",
              "    }\n",
              "    20% {\n",
              "      border-color: transparent;\n",
              "      border-left-color: var(--fill-color);\n",
              "      border-top-color: var(--fill-color);\n",
              "    }\n",
              "    30% {\n",
              "      border-color: transparent;\n",
              "      border-left-color: var(--fill-color);\n",
              "      border-top-color: var(--fill-color);\n",
              "      border-right-color: var(--fill-color);\n",
              "    }\n",
              "    40% {\n",
              "      border-color: transparent;\n",
              "      border-right-color: var(--fill-color);\n",
              "      border-top-color: var(--fill-color);\n",
              "    }\n",
              "    60% {\n",
              "      border-color: transparent;\n",
              "      border-right-color: var(--fill-color);\n",
              "    }\n",
              "    80% {\n",
              "      border-color: transparent;\n",
              "      border-right-color: var(--fill-color);\n",
              "      border-bottom-color: var(--fill-color);\n",
              "    }\n",
              "    90% {\n",
              "      border-color: transparent;\n",
              "      border-bottom-color: var(--fill-color);\n",
              "    }\n",
              "  }\n",
              "</style>\n",
              "\n",
              "  <script>\n",
              "    async function quickchart(key) {\n",
              "      const quickchartButtonEl =\n",
              "        document.querySelector('#' + key + ' button');\n",
              "      quickchartButtonEl.disabled = true;  // To prevent multiple clicks.\n",
              "      quickchartButtonEl.classList.add('colab-df-spinner');\n",
              "      try {\n",
              "        const charts = await google.colab.kernel.invokeFunction(\n",
              "            'suggestCharts', [key], {});\n",
              "      } catch (error) {\n",
              "        console.error('Error during call to suggestCharts:', error);\n",
              "      }\n",
              "      quickchartButtonEl.classList.remove('colab-df-spinner');\n",
              "      quickchartButtonEl.classList.add('colab-df-quickchart-complete');\n",
              "    }\n",
              "    (() => {\n",
              "      let quickchartButtonEl =\n",
              "        document.querySelector('#df-1719f8d0-2848-442e-81c9-aa46ea1c68a3 button');\n",
              "      quickchartButtonEl.style.display =\n",
              "        google.colab.kernel.accessAllowed ? 'block' : 'none';\n",
              "    })();\n",
              "  </script>\n",
              "</div>\n",
              "    </div>\n",
              "  </div>\n"
            ]
          },
          "metadata": {},
          "execution_count": 114
        }
      ],
      "source": [
        "train_df.head()"
      ]
    },
    {
      "cell_type": "code",
      "execution_count": 115,
      "metadata": {
        "colab": {
          "base_uri": "https://localhost:8080/"
        },
        "id": "mLphqBsHJ7Yj",
        "outputId": "04ce1d1a-a322-4da0-94da-f22b1f669bb8"
      },
      "outputs": [
        {
          "output_type": "execute_result",
          "data": {
            "text/plain": [
              "0    29720\n",
              "1     2242\n",
              "Name: label, dtype: int64"
            ]
          },
          "metadata": {},
          "execution_count": 115
        }
      ],
      "source": [
        "train_df.label.value_counts()"
      ]
    },
    {
      "cell_type": "code",
      "execution_count": 116,
      "metadata": {
        "colab": {
          "base_uri": "https://localhost:8080/"
        },
        "id": "ZbgIXO6_J7Ym",
        "outputId": "0b26ebbf-5eb6-402b-9b21-7f201c79ac40"
      },
      "outputs": [
        {
          "output_type": "execute_result",
          "data": {
            "text/plain": [
              "((23971, 3), (7991, 3))"
            ]
          },
          "metadata": {},
          "execution_count": 116
        }
      ],
      "source": [
        "X_train, X_valid = train_test_split(train_df, test_size=0.25, random_state=42)\n",
        "X_train.shape, X_valid.shape"
      ]
    },
    {
      "cell_type": "code",
      "execution_count": 117,
      "metadata": {
        "scrolled": true,
        "colab": {
          "base_uri": "https://localhost:8080/"
        },
        "id": "fhxU70dtJ7Yo",
        "outputId": "f9d20ec9-10ab-41f7-d3cf-7b446b3a6159"
      },
      "outputs": [
        {
          "output_type": "execute_result",
          "data": {
            "text/plain": [
              "0    22288\n",
              "1     1683\n",
              "Name: label, dtype: int64"
            ]
          },
          "metadata": {},
          "execution_count": 117
        }
      ],
      "source": [
        "X_train.label.value_counts()"
      ]
    },
    {
      "cell_type": "code",
      "execution_count": 118,
      "metadata": {
        "colab": {
          "base_uri": "https://localhost:8080/"
        },
        "id": "V9J__4wlJ7Yq",
        "outputId": "bcc0f2b9-187c-4369-e110-42b4a2dbfcae"
      },
      "outputs": [
        {
          "output_type": "execute_result",
          "data": {
            "text/plain": [
              "0    7432\n",
              "1     559\n",
              "Name: label, dtype: int64"
            ]
          },
          "metadata": {},
          "execution_count": 118
        }
      ],
      "source": [
        "X_valid.label.value_counts()"
      ]
    },
    {
      "cell_type": "code",
      "execution_count": 119,
      "metadata": {
        "id": "GGQxv7AgJ7Ys"
      },
      "outputs": [],
      "source": [
        "sw = set(get_stop_words(\"en\"))\n",
        "# sw"
      ]
    },
    {
      "cell_type": "code",
      "execution_count": 120,
      "metadata": {
        "id": "9H9ppNwFJ7Yx"
      },
      "outputs": [],
      "source": [
        "puncts = set(punctuation)\n",
        "# puncts"
      ]
    },
    {
      "cell_type": "code",
      "execution_count": 121,
      "metadata": {
        "colab": {
          "base_uri": "https://localhost:8080/",
          "height": 36
        },
        "id": "1Po-MSlrJ7Yz",
        "outputId": "2ba1502f-8c0b-4085-da9c-626a8e5e4ed9"
      },
      "outputs": [
        {
          "output_type": "execute_result",
          "data": {
            "text/plain": [
              "'dog'"
            ],
            "application/vnd.google.colaboratory.intrinsic+json": {
              "type": "string"
            }
          },
          "metadata": {},
          "execution_count": 121
        }
      ],
      "source": [
        "# morpher = MorphAnalyzer() # это для русского\n",
        "morpher = WordNetLemmatizer()\n",
        "morpher.lemmatize('dogs')"
      ]
    },
    {
      "cell_type": "code",
      "execution_count": 122,
      "metadata": {
        "id": "TeRoD0uwJ7Y2"
      },
      "outputs": [],
      "source": [
        "def preprocess_text(txt):\n",
        "    txt = str(txt)\n",
        "    txt = \"\".join(c for c in txt if c not in puncts)\n",
        "    txt = txt.lower()\n",
        "#     txt = re.sub(\"не\\s\", \"не\", txt)\n",
        "    txt = [morpher.lemmatize(word) for word in txt.split() if word not in sw]\n",
        "    return \" \".join(txt)"
      ]
    },
    {
      "cell_type": "code",
      "execution_count": 123,
      "metadata": {
        "id": "nNr-Tzb9J7Y4"
      },
      "outputs": [],
      "source": [
        "# train_df.tweet.iloc[:1].values"
      ]
    },
    {
      "cell_type": "code",
      "execution_count": 124,
      "metadata": {
        "id": "CtYq5nu1J7Y7"
      },
      "outputs": [],
      "source": [
        "# train_df.tweet.iloc[:1].apply(preprocess_text).values"
      ]
    },
    {
      "cell_type": "code",
      "execution_count": 125,
      "metadata": {
        "colab": {
          "base_uri": "https://localhost:8080/"
        },
        "id": "TttednguJ7Y8",
        "outputId": "b7d3a389-0202-4696-b558-2fa14f8eaf74"
      },
      "outputs": [
        {
          "output_type": "stream",
          "name": "stderr",
          "text": [
            "100%|██████████| 23971/23971 [00:01<00:00, 19130.22it/s]\n",
            "100%|██████████| 7991/7991 [00:00<00:00, 18378.85it/s]\n"
          ]
        }
      ],
      "source": [
        "from tqdm import tqdm\n",
        "tqdm.pandas()\n",
        "\n",
        "X_train.tweet = X_train.tweet.progress_apply(preprocess_text)\n",
        "X_valid.tweet = X_valid.tweet.progress_apply(preprocess_text)"
      ]
    },
    {
      "cell_type": "code",
      "execution_count": 126,
      "metadata": {
        "colab": {
          "base_uri": "https://localhost:8080/"
        },
        "id": "MbTR9039J7ZA",
        "outputId": "eb1717d3-a8c9-4afe-9d08-bdd241211c06"
      },
      "outputs": [
        {
          "output_type": "execute_result",
          "data": {
            "text/plain": [
              "['weekend', 'world', 'really', 'going', 'bonkers']"
            ]
          },
          "metadata": {},
          "execution_count": 126
        }
      ],
      "source": [
        "train_corpus = \" \".join(X_train.tweet)\n",
        "train_corpus = train_corpus.lower()\n",
        "tokens = word_tokenize(train_corpus)\n",
        "tokens[:5]"
      ]
    },
    {
      "cell_type": "code",
      "execution_count": 127,
      "metadata": {
        "id": "ZsVS2mPoJ7ZE"
      },
      "outputs": [],
      "source": [
        "# Отфильтруем данные и соберём в корпус N наиболее частых токенов\n",
        "tokens_filtered = [word for word in tokens if word.isalnum()]"
      ]
    },
    {
      "cell_type": "code",
      "execution_count": 128,
      "metadata": {
        "colab": {
          "base_uri": "https://localhost:8080/"
        },
        "id": "x5KRnudNJ7ZG",
        "outputId": "0999c3ce-e519-4fc4-fa86-3161e999d538"
      },
      "outputs": [
        {
          "output_type": "execute_result",
          "data": {
            "text/plain": [
              "999"
            ]
          },
          "metadata": {},
          "execution_count": 128
        }
      ],
      "source": [
        "from nltk.probability import FreqDist\n",
        "\n",
        "dist = FreqDist(tokens_filtered)\n",
        "tokens_filtered_top = [pair[0] for pair in dist.most_common(max_words-1)]  # вычитание 1 для padding\n",
        "len(tokens_filtered_top)"
      ]
    },
    {
      "cell_type": "code",
      "execution_count": 129,
      "metadata": {
        "colab": {
          "base_uri": "https://localhost:8080/"
        },
        "id": "cmp4zQ6sJ7ZI",
        "outputId": "4cb8171e-0066-406e-afcd-ddde73eaaa41"
      },
      "outputs": [
        {
          "output_type": "execute_result",
          "data": {
            "text/plain": [
              "['user', 'love', 'day', 'u', 'happy', 'amp', 'just', 'will', 'time', 'life']"
            ]
          },
          "metadata": {},
          "execution_count": 129
        }
      ],
      "source": [
        "tokens_filtered_top[:10]"
      ]
    },
    {
      "cell_type": "code",
      "execution_count": 130,
      "metadata": {
        "scrolled": false,
        "id": "WGyPwlEkJ7ZJ"
      },
      "outputs": [],
      "source": [
        "vocabulary = {v: k for k, v in dict(enumerate(tokens_filtered_top, 1)).items()}\n",
        "# vocabulary"
      ]
    },
    {
      "cell_type": "code",
      "execution_count": 131,
      "metadata": {
        "id": "TzagqxfsJ7ZL"
      },
      "outputs": [],
      "source": [
        "def text_to_sequence(text, maxlen):\n",
        "\n",
        "    result = []\n",
        "    tokens = word_tokenize(text.lower())\n",
        "    tokens_filtered = [word for word in tokens if word.isalnum()] # проверка чтобы токен был либо буквенный либо символьный\n",
        "    for word in tokens_filtered:\n",
        "        if word in vocabulary:\n",
        "            result.append(vocabulary[word])\n",
        "\n",
        "    padding = [0] * (maxlen-len(result))\n",
        "\n",
        "    return result[-maxlen:] + padding"
      ]
    },
    {
      "cell_type": "code",
      "execution_count": 132,
      "metadata": {
        "colab": {
          "base_uri": "https://localhost:8080/"
        },
        "id": "qmogrrvQJ7ZM",
        "outputId": "80242249-53f9-4534-cbfb-9c3638e2c175"
      },
      "outputs": [
        {
          "output_type": "stream",
          "name": "stdout",
          "text": [
            "CPU times: user 3.69 s, sys: 12 ms, total: 3.7 s\n",
            "Wall time: 3.73 s\n"
          ]
        },
        {
          "output_type": "execute_result",
          "data": {
            "text/plain": [
              "((23971, 10), (7991, 10))"
            ]
          },
          "metadata": {},
          "execution_count": 132
        }
      ],
      "source": [
        "%%time\n",
        "\n",
        "x_train = np.asarray([text_to_sequence(text, max_len) for text in X_train.tweet])\n",
        "x_val = np.asarray([text_to_sequence(text, max_len) for text in X_valid.tweet])\n",
        "\n",
        "x_train.shape, x_val.shape"
      ]
    },
    {
      "cell_type": "code",
      "execution_count": 133,
      "metadata": {
        "colab": {
          "base_uri": "https://localhost:8080/",
          "height": 36
        },
        "id": "EZib3NzUJ7ZR",
        "outputId": "5ff14d93-eefe-4944-f809-3ac40cc612fe"
      },
      "outputs": [
        {
          "output_type": "execute_result",
          "data": {
            "text/plain": [
              "' @user when a father is dysfunctional and is so selfish he drags his kids into his dysfunction.   #run'"
            ],
            "application/vnd.google.colaboratory.intrinsic+json": {
              "type": "string"
            }
          },
          "metadata": {},
          "execution_count": 133
        }
      ],
      "source": [
        "train_df.tweet.iloc[0]"
      ]
    },
    {
      "cell_type": "code",
      "execution_count": 134,
      "metadata": {
        "colab": {
          "base_uri": "https://localhost:8080/"
        },
        "id": "NwXyAE-QJ7ZU",
        "outputId": "0db81bd2-b968-4daf-e606-3cfd515bcb76"
      },
      "outputs": [
        {
          "output_type": "execute_result",
          "data": {
            "text/plain": [
              "array([35,  0,  0,  0,  0,  0,  0,  0,  0,  0])"
            ]
          },
          "metadata": {},
          "execution_count": 134
        }
      ],
      "source": [
        "x_train[0]"
      ]
    },
    {
      "cell_type": "code",
      "execution_count": 135,
      "metadata": {
        "id": "aB439IOqJ7ZV"
      },
      "outputs": [],
      "source": [
        "class Net(nn.Module):\n",
        "    def __init__(self, vocab_size=2000, embedding_dim=64, out_channel=64, num_classes=1):\n",
        "        super().__init__()\n",
        "        self.embedding = nn.Embedding(vocab_size, embedding_dim)\n",
        "        self.conv_1 = nn.Conv1d(embedding_dim, out_channel, kernel_size=2)\n",
        "        self.conv_2 = nn.Conv1d(embedding_dim, out_channel, kernel_size=3)\n",
        "        self.pool = nn.MaxPool1d(2)\n",
        "        self.relu = nn.ReLU()\n",
        "        self.linear_1 = nn.Linear(out_channel, out_channel // 2)\n",
        "        self.linear_2 = nn.Linear(out_channel // 2, num_classes)\n",
        "\n",
        "    def forward(self, x):\n",
        "        output = self.embedding(x) # B, L, E\n",
        "        #                       B  E  L\n",
        "        output = output.permute(0, 2, 1)\n",
        "        output = self.conv_1(output)\n",
        "        output = self.relu(output)\n",
        "        output = self.pool(output)\n",
        "\n",
        "        output = self.conv_2(output)\n",
        "        output = self.relu(output)\n",
        "        output = self.pool(output)\n",
        "        output = torch.max(output, axis=2).values\n",
        "        output = self.linear_1(output)\n",
        "        output = self.relu(output)\n",
        "        output = self.linear_2(output)\n",
        "        output = F.sigmoid(output)\n",
        "        return output"
      ]
    },
    {
      "cell_type": "code",
      "execution_count": 136,
      "metadata": {
        "id": "MTLX2b_xJ7ZX"
      },
      "outputs": [],
      "source": [
        "class DataWrapper(Dataset):\n",
        "    def __init__(self, data, target, transform=None):\n",
        "        self.data = torch.from_numpy(data).long() # если индексы инты то делать лучше лонг - иначе может сломаться вдруг -\n",
        "        # так как на инт меньше памяти выделяется на каждое значение и может переполниться\n",
        "        self.target = torch.from_numpy(target).long() # какие то ф-и потерь на интах не считается - а только на лонгах\n",
        "        self.transform = transform\n",
        "\n",
        "    def __getitem__(self, index):\n",
        "        x = self.data[index]\n",
        "        y = self.target[index]\n",
        "\n",
        "        if self.transform:\n",
        "            x = self.transform(x)\n",
        "\n",
        "        return x, y\n",
        "\n",
        "    def __len__(self):\n",
        "        return len(self.data)"
      ]
    },
    {
      "cell_type": "code",
      "execution_count": 137,
      "metadata": {
        "id": "MFHMe8R2J7ZZ"
      },
      "outputs": [],
      "source": [
        "train_dataset = DataWrapper(x_train, X_train.label.values)\n",
        "train_loader = DataLoader(train_dataset, batch_size=batch_size, shuffle=True)\n",
        "\n",
        "val_dataset = DataWrapper(x_val, X_valid.label.values)\n",
        "val_loader = DataLoader(val_dataset, batch_size=8, shuffle=True)"
      ]
    },
    {
      "cell_type": "code",
      "execution_count": 138,
      "metadata": {
        "colab": {
          "base_uri": "https://localhost:8080/"
        },
        "id": "bzwEKbSCJ7Zb",
        "outputId": "e741bcaf-ed8d-4d65-e7b5-88efba914a78"
      },
      "outputs": [
        {
          "output_type": "execute_result",
          "data": {
            "text/plain": [
              "<torch.utils.data.sampler.RandomSampler at 0x7d63ccc8fc70>"
            ]
          },
          "metadata": {},
          "execution_count": 138
        }
      ],
      "source": [
        "train_loader.sampler"
      ]
    },
    {
      "cell_type": "code",
      "execution_count": 139,
      "metadata": {
        "colab": {
          "base_uri": "https://localhost:8080/"
        },
        "id": "pLLbKplXJ7Zd",
        "outputId": "f64bda7c-f2b1-41d5-f277-6a5051774e40"
      },
      "outputs": [
        {
          "output_type": "stream",
          "name": "stdout",
          "text": [
            "torch.Size([512, 10])\n",
            "torch.Size([512])\n",
            "tensor(0)\n"
          ]
        }
      ],
      "source": [
        "for x, l in train_loader:\n",
        "    print(x.shape)\n",
        "    print(l.shape)\n",
        "    print(l[0])\n",
        "    break"
      ]
    },
    {
      "cell_type": "code",
      "execution_count": 140,
      "metadata": {
        "colab": {
          "base_uri": "https://localhost:8080/",
          "height": 36
        },
        "id": "amfGrnkPJ7Zm",
        "outputId": "d7c55875-48b4-4601-a467-355568130af3"
      },
      "outputs": [
        {
          "output_type": "execute_result",
          "data": {
            "text/plain": [
              "'cpu'"
            ],
            "application/vnd.google.colaboratory.intrinsic+json": {
              "type": "string"
            }
          },
          "metadata": {},
          "execution_count": 140
        }
      ],
      "source": [
        "model = Net(vocab_size=max_words)\n",
        "\n",
        "device = 'cuda' if torch.cuda.is_available() else 'cpu'\n",
        "device"
      ]
    },
    {
      "cell_type": "code",
      "execution_count": 141,
      "metadata": {
        "colab": {
          "base_uri": "https://localhost:8080/"
        },
        "id": "Khl3SqBaJ7Zp",
        "outputId": "30ca2641-c5d8-4f6d-f376-f19b34c48156"
      },
      "outputs": [
        {
          "output_type": "stream",
          "name": "stdout",
          "text": [
            "Net(\n",
            "  (embedding): Embedding(1000, 64)\n",
            "  (conv_1): Conv1d(64, 64, kernel_size=(2,), stride=(1,))\n",
            "  (conv_2): Conv1d(64, 64, kernel_size=(3,), stride=(1,))\n",
            "  (pool): MaxPool1d(kernel_size=2, stride=2, padding=0, dilation=1, ceil_mode=False)\n",
            "  (relu): ReLU()\n",
            "  (linear_1): Linear(in_features=64, out_features=32, bias=True)\n",
            "  (linear_2): Linear(in_features=32, out_features=1, bias=True)\n",
            ")\n",
            "Parameters: 86721\n"
          ]
        }
      ],
      "source": [
        "print(model)\n",
        "print(\"Parameters:\", sum([param.nelement() for param in model.parameters()]))"
      ]
    },
    {
      "cell_type": "code",
      "execution_count": 142,
      "metadata": {
        "id": "E6gnnTGxJ7Zr"
      },
      "outputs": [],
      "source": [
        "optimizer = torch.optim.Adam(model.parameters(), lr=0.01) # засовываем все параметры - они пока необученные\n",
        "criterion = nn.BCELoss() # класс у нас 1 - поэтому бинарная кросс энтропия тут справляется"
      ]
    },
    {
      "cell_type": "code",
      "execution_count": 143,
      "metadata": {
        "colab": {
          "base_uri": "https://localhost:8080/"
        },
        "id": "20ZkfDXeJ7Zs",
        "outputId": "53531a28-ae39-426a-a61f-9e2ded2cfe12"
      },
      "outputs": [
        {
          "output_type": "stream",
          "name": "stdout",
          "text": [
            "Epoch [1/15]. Step [47/47]. Loss: 0.156. Acc: 0.912. Test loss: 0.325. Test acc: 0.930\n",
            "Epoch [2/15]. Step [47/47]. Loss: 0.176. Acc: 0.935. Test loss: 0.441. Test acc: 0.941\n",
            "Epoch [3/15]. Step [47/47]. Loss: 0.143. Acc: 0.946. Test loss: 0.041. Test acc: 0.943\n",
            "Epoch [4/15]. Step [47/47]. Loss: 0.099. Acc: 0.955. Test loss: 0.280. Test acc: 0.946\n",
            "Epoch [5/15]. Step [47/47]. Loss: 0.090. Acc: 0.962. Test loss: 0.001. Test acc: 0.945\n",
            "Epoch [6/15]. Step [47/47]. Loss: 0.056. Acc: 0.967. Test loss: 0.040. Test acc: 0.942\n",
            "Epoch [7/15]. Step [47/47]. Loss: 0.103. Acc: 0.973. Test loss: 0.268. Test acc: 0.943\n",
            "Epoch [8/15]. Step [47/47]. Loss: 0.054. Acc: 0.978. Test loss: 0.284. Test acc: 0.942\n",
            "Epoch [9/15]. Step [47/47]. Loss: 0.047. Acc: 0.983. Test loss: 0.247. Test acc: 0.941\n",
            "Epoch [10/15]. Step [47/47]. Loss: 0.045. Acc: 0.986. Test loss: 0.000. Test acc: 0.935\n",
            "Epoch [11/15]. Step [47/47]. Loss: 0.048. Acc: 0.987. Test loss: 0.001. Test acc: 0.930\n",
            "Epoch [12/15]. Step [47/47]. Loss: 0.041. Acc: 0.988. Test loss: 0.000. Test acc: 0.939\n",
            "Epoch [13/15]. Step [47/47]. Loss: 0.028. Acc: 0.988. Test loss: 0.022. Test acc: 0.938\n",
            "Epoch [14/15]. Step [47/47]. Loss: 0.052. Acc: 0.989. Test loss: 0.009. Test acc: 0.935\n",
            "Epoch [15/15]. Step [47/47]. Loss: 0.034. Acc: 0.989. Test loss: 0.588. Test acc: 0.942\n",
            "Training is finished!\n"
          ]
        }
      ],
      "source": [
        "model = model.to(device)\n",
        "model.train()\n",
        "th = 0.5\n",
        "\n",
        "train_loss_history = []\n",
        "test_loss_history = []\n",
        "\n",
        "\n",
        "for epoch in range(epochs):\n",
        "    running_items, running_right = 0.0, 0.0\n",
        "    for i, data in enumerate(train_loader, 0):\n",
        "        inputs, labels = data[0].to(device), data[1].to(device)\n",
        "\n",
        "        # обнуляем градиент\n",
        "        optimizer.zero_grad()\n",
        "        outputs = model(inputs)\n",
        "\n",
        "        loss = criterion(outputs, labels.float().view(-1, 1))\n",
        "        loss.backward()\n",
        "        optimizer.step()\n",
        "\n",
        "        # подсчет ошибки на обучении\n",
        "        loss = loss.item()\n",
        "        running_items += len(labels)\n",
        "        # подсчет метрики на обучении\n",
        "        pred_labels = torch.squeeze((outputs > th).int())\n",
        "        running_right += (labels == pred_labels).sum()\n",
        "\n",
        "    # выводим статистику о процессе обучения (переводим модель в валидацию)\n",
        "    model.eval()\n",
        "\n",
        "    print(f'Epoch [{epoch + 1}/{epochs}]. ' \\\n",
        "            f'Step [{i + 1}/{len(train_loader)}]. ' \\\n",
        "            f'Loss: {loss:.3f}. ' \\\n",
        "            f'Acc: {running_right / running_items:.3f}', end='. ')\n",
        "    running_loss, running_items, running_right = 0.0, 0.0, 0.0\n",
        "    train_loss_history.append(loss)\n",
        "\n",
        "        # выводим статистику на тестовых данных\n",
        "    test_running_right, test_running_total, test_loss = 0.0, 0.0, 0.0\n",
        "    for j, data in enumerate(val_loader):\n",
        "        test_labels = data[1].to(device)\n",
        "        test_outputs = model(data[0].to(device))\n",
        "\n",
        "        # подсчет ошибки на тесте\n",
        "        test_loss = criterion(test_outputs, test_labels.float().view(-1, 1))\n",
        "        # подсчет метрики на тесте\n",
        "        test_running_total += len(data[1])\n",
        "        pred_test_labels = torch.squeeze((test_outputs > th).int())\n",
        "        test_running_right += (test_labels == pred_test_labels).sum()\n",
        "\n",
        "    test_loss_history.append(test_loss.item())\n",
        "    print(f'Test loss: {test_loss:.3f}. Test acc: {test_running_right / test_running_total:.3f}')\n",
        "\n",
        "    model.train()\n",
        "\n",
        "print('Training is finished!')"
      ]
    },
    {
      "cell_type": "code",
      "execution_count": 144,
      "metadata": {
        "colab": {
          "base_uri": "https://localhost:8080/",
          "height": 472
        },
        "id": "w98vP7alJ7Zt",
        "outputId": "57b74a35-9a36-4612-ab3c-9557c54c9993"
      },
      "outputs": [
        {
          "output_type": "display_data",
          "data": {
            "text/plain": [
              "<Figure size 640x480 with 1 Axes>"
            ],
            "image/png": "[encoded data removed]"
          },
          "metadata": {}
        }
      ],
      "source": [
        "import matplotlib.pyplot as plt\n",
        "\n",
        "plt.title('Loss history')\n",
        "plt.grid(True)\n",
        "plt.ylabel('Loss')\n",
        "plt.xlabel('Epoch')\n",
        "plt.plot(train_loss_history, label='train')\n",
        "plt.plot(test_loss_history, label='test')\n",
        "plt.legend();"
      ]
    },
    {
      "cell_type": "markdown",
      "metadata": {
        "id": "x6Vjo0a7J7Zx"
      },
      "source": [
        "Опишите, какой результат вы получили? Что помогло вам улучшить ее точность?\n",
        "\n",
        "Результат для max_len=20, max_words=2000\n",
        "\n",
        "Epoch [1/15]. Step [47/47]. Loss: 0.187. Acc: 0.930. Test loss: 0.056. Test acc: 0.930\n",
        "\n",
        "Epoch [2/15]. Step [47/47]. Loss: 0.158. Acc: 0.938. Test loss: 0.163. Test acc: 0.948\n",
        "\n",
        "Epoch [3/15]. Step [47/47]. Loss: 0.108. Acc: 0.960. Test loss: 0.007. Test acc: 0.950\n",
        "\n",
        "Epoch [4/15]. Step [47/47]. Loss: 0.088. Acc: 0.971. Test loss: 0.022. Test acc: 0.942\n",
        "\n",
        "Epoch [5/15]. Step [47/47]. Loss: 0.066. Acc: 0.979. Test loss: 0.014. Test acc: 0.948\n",
        "\n",
        "Epoch [6/15]. Step [47/47]. Loss: 0.047. Acc: 0.983. Test loss: 0.000. Test acc: 0.942\n",
        "\n",
        "Epoch [7/15]. Step [47/47]. Loss: 0.032. Acc: 0.989. Test loss: 0.053. Test acc: 0.942\n",
        "\n",
        "Epoch [8/15]. Step [47/47]. Loss: 0.022. Acc: 0.991. Test loss: 0.703. Test acc: 0.943\n",
        "\n",
        "Epoch [9/15]. Step [47/47]. Loss: 0.032. Acc: 0.994. Test loss: 0.000. Test acc: 0.946\n",
        "\n",
        "Epoch [10/15]. Step [47/47]. Loss: 0.017. Acc: 0.995. Test loss: 0.030. Test acc: 0.943\n",
        "\n",
        "Epoch [11/15]. Step [47/47]. Loss: 0.010. Acc: 0.996. Test loss: 0.304. Test acc: 0.941\n",
        "\n",
        "Epoch [12/15]. Step [47/47]. Loss: 0.041. Acc: 0.996. Test loss: 0.000. Test acc: 0.945\n",
        "\n",
        "Epoch [13/15]. Step [47/47]. Loss: 0.004. Acc: 0.995. Test loss: 1.517. Test acc: 0.947\n",
        "\n",
        "Epoch [14/15]. Step [47/47]. Loss: 0.024. Acc: 0.997. Test loss: 14.310. Test acc: 0.939\n",
        "\n",
        "Epoch [15/15]. Step [47/47]. Loss: 0.009. Acc: 0.996. Test loss: 0.000. Test acc: 0.946\n",
        "\n",
        "Training is finished!"
      ]
    },
    {
      "cell_type": "markdown",
      "metadata": {
        "id": "WVpr5pYTJ7Z5"
      },
      "source": [
        "Результат для max_len=10, max_words=2000\n",
        "- Epoch [1/15]. Step [47/47]. Loss: 0.199. Acc: 0.912. Test loss: 0.018. Test acc: 0.930\n",
        "- Epoch [2/15]. Step [47/47]. Loss: 0.178. Acc: 0.944. Test loss: 0.009. Test acc: 0.946\n",
        "- Epoch [3/15]. Step [47/47]. Loss: 0.123. Acc: 0.962. Test loss: 0.051. Test acc: 0.950\n",
        "- Epoch [4/15]. Step [47/47]. Loss: 0.065. Acc: 0.972. Test loss: 0.994. Test acc: 0.949\n",
        "- Epoch [5/15]. Step [47/47]. Loss: 0.046. Acc: 0.979. Test loss: 0.002. Test acc: 0.945\n",
        "- Epoch [6/15]. Step [47/47]. Loss: 0.026. Acc: 0.985. Test loss: 0.000. Test acc: 0.937\n",
        "- Epoch [7/15]. Step [47/47]. Loss: 0.048. Acc: 0.988. Test loss: 0.031. Test acc: 0.949\n",
        "- Epoch [8/15]. Step [47/47]. Loss: 0.027. Acc: 0.990. Test loss: 2.761. Test acc: 0.944\n",
        "- Epoch [9/15]. Step [47/47]. Loss: 0.044. Acc: 0.994. Test loss: 0.000. Test acc: 0.943\n",
        "- Epoch [10/15]. Step [47/47]. Loss: 0.027. Acc: 0.994. Test loss: 0.053. Test acc: 0.942\n",
        "- Epoch [11/15]. Step [47/47]. Loss: 0.008. Acc: 0.995. Test loss: 0.034. Test acc: 0.945\n",
        "- Epoch [12/15]. Step [47/47]. Loss: 0.018. Acc: 0.994. Test loss: 0.056. Test acc: 0.938\n",
        "- Epoch [13/15]. Step [47/47]. Loss: 0.014. Acc: 0.995. Test loss: 0.003. Test acc: 0.942\n",
        "- Epoch [14/15]. Step [47/47]. Loss: 0.039. Acc: 0.995. Test loss: 0.000. Test acc: 0.938\n",
        "- Epoch [15/15]. Step [47/47]. Loss: 0.023. Acc: 0.994. Test loss: 0.000. Test acc: 0.940"
      ]
    },
    {
      "cell_type": "markdown",
      "metadata": {
        "id": "qHauMLnkJ7Z9"
      },
      "source": [
        "Результат для max_len=10, max_words=1000\n",
        "- Epoch [1/15]. Step [47/47]. Loss: 0.183. Acc: 0.912. Test loss: 0.056. Test acc: 0.935\n",
        "- Epoch [2/15]. Step [47/47]. Loss: 0.165. Acc: 0.939. Test loss: 0.054. Test acc: 0.943\n",
        "- Epoch [3/15]. Step [47/47]. Loss: 0.145. Acc: 0.951. Test loss: 0.982. Test acc: 0.935\n",
        "- Epoch [4/15]. Step [47/47]. Loss: 0.105. Acc: 0.961. Test loss: 0.012. Test acc: 0.925\n",
        "- Epoch [5/15]. Step [47/47]. Loss: 0.075. Acc: 0.970. Test loss: 0.099. Test acc: 0.940\n",
        "- Epoch [6/15]. Step [47/47]. Loss: 0.090. Acc: 0.978. Test loss: 0.325. Test acc: 0.935\n",
        "- Epoch [7/15]. Step [47/47]. Loss: 0.045. Acc: 0.981. Test loss: 2.214. Test acc: 0.941\n",
        "- Epoch [8/15]. Step [47/47]. Loss: 0.047. Acc: 0.985. Test loss: 0.876. Test acc: 0.940\n",
        "- Epoch [9/15]. Step [47/47]. Loss: 0.061. Acc: 0.986. Test loss: 2.361. Test acc: 0.941\n",
        "- Epoch [10/15]. Step [47/47]. Loss: 0.052. Acc: 0.987. Test loss: 1.191. Test acc: 0.943\n",
        "- Epoch [11/15]. Step [47/47]. Loss: 0.030. Acc: 0.988. Test loss: 0.005. Test acc: 0.938\n",
        "- Epoch [12/15]. Step [47/47]. Loss: 0.040. Acc: 0.988. Test loss: 0.019. Test acc: 0.933\n",
        "- Epoch [13/15]. Step [47/47]. Loss: 0.019. Acc: 0.991. Test loss: 0.000. Test acc: 0.939\n",
        "- Epoch [14/15]. Step [47/47]. Loss: 0.017. Acc: 0.992. Test loss: 1.373. Test acc: 0.942\n",
        "- Epoch [15/15]. Step [47/47]. Loss: 0.017. Acc: 0.993. Test loss: 0.000. Test acc: 0.938"
      ]
    },
    {
      "cell_type": "markdown",
      "metadata": {
        "id": "aRNERvztJ7Z-"
      },
      "source": [
        "Результат для max_len=10, max_words=1000, embedding=64\n",
        "- Epoch [1/15]. Step [47/47]. Loss: 0.190. Acc: 0.911. Test loss: 0.271. Test acc: 0.930\n",
        "- Epoch [2/15]. Step [47/47]. Loss: 0.148. Acc: 0.932. Test loss: 0.313. Test acc: 0.936\n",
        "- Epoch [3/15]. Step [47/47]. Loss: 0.170. Acc: 0.940. Test loss: 0.462. Test acc: 0.942\n",
        "- Epoch [4/15]. Step [47/47]. Loss: 0.124. Acc: 0.951. Test loss: 0.019. Test acc: 0.943\n",
        "- Epoch [5/15]. Step [47/47]. Loss: 0.139. Acc: 0.958. Test loss: 0.103. Test acc: 0.936\n",
        "- Epoch [6/15]. Step [47/47]. Loss: 0.071. Acc: 0.964. Test loss: 0.066. Test acc: 0.943\n",
        "- Epoch [7/15]. Step [47/47]. Loss: 0.066. Acc: 0.969. Test loss: 0.177. Test acc: 0.941\n",
        "- Epoch [8/15]. Step [47/47]. Loss: 0.079. Acc: 0.976. Test loss: 0.025. Test acc: 0.941\n",
        "- Epoch [9/15]. Step [47/47]. Loss: 0.070. Acc: 0.979. Test loss: 0.029. Test acc: 0.939\n",
        "- Epoch [10/15]. Step [47/47]. Loss: 0.050. Acc: 0.981. Test loss: 0.009. Test acc: 0.943\n",
        "- Epoch [11/15]. Step [47/47]. Loss: 0.039. Acc: 0.984. Test loss: 1.555. Test acc: 0.935\n",
        "- Epoch [12/15]. Step [47/47]. Loss: 0.051. Acc: 0.986. Test loss: 0.046. Test acc: 0.929\n",
        "- Epoch [13/15]. Step [47/47]. Loss: 0.037. Acc: 0.987. Test loss: 0.000. Test acc: 0.940\n",
        "- Epoch [14/15]. Step [47/47]. Loss: 0.038. Acc: 0.987. Test loss: 0.087. Test acc: 0.938\n",
        "- Epoch [15/15]. Step [47/47]. Loss: 0.049. Acc: 0.988. Test loss: 1.554. Test acc: 0.940"
      ]
    },
    {
      "cell_type": "markdown",
      "source": [
        "Результат для max_len=20, max_words=1000\n",
        "Epoch [1/15]. Step [47/47]. Loss: 0.213. Acc: 0.927. Test loss: 0.605. Test acc: 0.930\n",
        "\n",
        "Epoch [2/15]. Step [47/47]. Loss: 0.165. Acc: 0.930. Test loss: 0.064. Test acc: 0.930\n",
        "\n",
        "Epoch [3/15]. Step [47/47]. Loss: 0.126. Acc: 0.934. Test loss: 1.084. Test acc: 0.947\n",
        "\n",
        "Epoch [4/15]. Step [47/47]. Loss: 0.177. Acc: 0.953. Test loss: 0.001. Test acc: 0.938\n",
        "\n",
        "Epoch [5/15]. Step [47/47]. Loss: 0.084. Acc: 0.961. Test loss: 0.196. Test acc: 0.935\n",
        "\n",
        "Epoch [6/15]. Step [47/47]. Loss: 0.105. Acc: 0.968. Test loss: 0.032. Test acc: 0.945\n",
        "\n",
        "Epoch [7/15]. Step [47/47]. Loss: 0.065. Acc: 0.974. Test loss: 0.049. Test acc: 0.939\n",
        "\n",
        "Epoch [8/15]. Step [47/47]. Loss: 0.057. Acc: 0.980. Test loss: 0.007. Test acc: 0.940\n",
        "\n",
        "Epoch [9/15]. Step [47/47]. Loss: 0.040. Acc: 0.985. Test loss: 0.222. Test acc: 0.941\n",
        "\n",
        "Epoch [10/15]. Step [47/47]. Loss: 0.029. Acc: 0.988. Test loss: 0.008. Test acc: 0.935\n",
        "\n",
        "Epoch [11/15]. Step [47/47]. Loss: 0.046. Acc: 0.988. Test loss: 3.087. Test acc: 0.939\n",
        "\n",
        "Epoch [12/15]. Step [47/47]. Loss: 0.030. Acc: 0.989. Test loss: 0.517. Test acc: 0.934\n",
        "\n",
        "Epoch [13/15]. Step [47/47]. Loss: 0.026. Acc: 0.989. Test loss: 0.000. Test acc: 0.929\n",
        "\n",
        "Epoch [14/15]. Step [47/47]. Loss: 0.021. Acc: 0.989. Test loss: 0.926. Test acc: 0.935\n",
        "\n",
        "Epoch [15/15]. Step [47/47]. Loss: 0.026. Acc: 0.990. Test loss: 0.110. Test acc: 0.938\n",
        "\n",
        "Training is finished!\n",
        "\n",
        "\n"
      ],
      "metadata": {
        "id": "LKB_-gJfPiM6"
      }
    },
    {
      "cell_type": "markdown",
      "metadata": {
        "id": "BaCXt8QlJ7at"
      },
      "source": [
        "\n",
        "точность модели не сильно зависит от изменения параметров"
      ]
    },
    {
      "cell_type": "code",
      "execution_count": 144,
      "metadata": {
        "id": "uSakh24QJ7au"
      },
      "outputs": [],
      "source": []
    }
  ],
  "metadata": {
    "kernelspec": {
      "display_name": "Python 3",
      "language": "python",
      "name": "python3"
    },
    "language_info": {
      "codemirror_mode": {
        "name": "ipython",
        "version": 3
      },
      "file_extension": ".py",
      "mimetype": "text/x-python",
      "name": "python",
      "nbconvert_exporter": "python",
      "pygments_lexer": "ipython3",
      "version": "3.8.5"
    },
    "colab": {
      "provenance": [],
      "include_colab_link": true
    }
  },
  "nbformat": 4,
  "nbformat_minor": 0
}